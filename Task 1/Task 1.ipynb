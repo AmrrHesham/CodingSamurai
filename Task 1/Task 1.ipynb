{
 "cells": [
  {
   "cell_type": "markdown",
   "metadata": {},
   "source": [
    "## Import Libraries"
   ]
  },
  {
   "cell_type": "code",
   "execution_count": 2,
   "metadata": {},
   "outputs": [],
   "source": [
    "import pandas as pd\n",
    "import numpy as np\n",
    "import matplotlib.pyplot as plt\n",
    "import seaborn as sns\n",
    "from sklearn.preprocessing import LabelEncoder\n",
    "from sklearn.model_selection import train_test_split, cross_val_score\n",
    "from sklearn.linear_model import LogisticRegression\n",
    "from sklearn.metrics import accuracy_score, classification_report, confusion_matrix\n",
    "import optuna\n",
    "\n",
    "import warnings\n",
    "warnings.filterwarnings('ignore')"
   ]
  },
  {
   "cell_type": "markdown",
   "metadata": {},
   "source": [
    "## Load Dataset"
   ]
  },
  {
   "cell_type": "code",
   "execution_count": 3,
   "metadata": {},
   "outputs": [],
   "source": [
    "df = pd.read_csv('iris.data')"
   ]
  },
  {
   "cell_type": "code",
   "execution_count": 4,
   "metadata": {},
   "outputs": [],
   "source": [
    "df.columns = ['sepal length in cm', 'sepal width in cm', 'petal length in cm', 'petal width in cm', 'class']"
   ]
  },
  {
   "cell_type": "markdown",
   "metadata": {},
   "source": [
    "## Data Exploration"
   ]
  },
  {
   "cell_type": "code",
   "execution_count": 5,
   "metadata": {},
   "outputs": [
    {
     "data": {
      "text/html": [
       "<div>\n",
       "<style scoped>\n",
       "    .dataframe tbody tr th:only-of-type {\n",
       "        vertical-align: middle;\n",
       "    }\n",
       "\n",
       "    .dataframe tbody tr th {\n",
       "        vertical-align: top;\n",
       "    }\n",
       "\n",
       "    .dataframe thead th {\n",
       "        text-align: right;\n",
       "    }\n",
       "</style>\n",
       "<table border=\"1\" class=\"dataframe\">\n",
       "  <thead>\n",
       "    <tr style=\"text-align: right;\">\n",
       "      <th></th>\n",
       "      <th>sepal length in cm</th>\n",
       "      <th>sepal width in cm</th>\n",
       "      <th>petal length in cm</th>\n",
       "      <th>petal width in cm</th>\n",
       "      <th>class</th>\n",
       "    </tr>\n",
       "  </thead>\n",
       "  <tbody>\n",
       "    <tr>\n",
       "      <th>0</th>\n",
       "      <td>4.9</td>\n",
       "      <td>3.0</td>\n",
       "      <td>1.4</td>\n",
       "      <td>0.2</td>\n",
       "      <td>Iris-setosa</td>\n",
       "    </tr>\n",
       "    <tr>\n",
       "      <th>1</th>\n",
       "      <td>4.7</td>\n",
       "      <td>3.2</td>\n",
       "      <td>1.3</td>\n",
       "      <td>0.2</td>\n",
       "      <td>Iris-setosa</td>\n",
       "    </tr>\n",
       "    <tr>\n",
       "      <th>2</th>\n",
       "      <td>4.6</td>\n",
       "      <td>3.1</td>\n",
       "      <td>1.5</td>\n",
       "      <td>0.2</td>\n",
       "      <td>Iris-setosa</td>\n",
       "    </tr>\n",
       "    <tr>\n",
       "      <th>3</th>\n",
       "      <td>5.0</td>\n",
       "      <td>3.6</td>\n",
       "      <td>1.4</td>\n",
       "      <td>0.2</td>\n",
       "      <td>Iris-setosa</td>\n",
       "    </tr>\n",
       "    <tr>\n",
       "      <th>4</th>\n",
       "      <td>5.4</td>\n",
       "      <td>3.9</td>\n",
       "      <td>1.7</td>\n",
       "      <td>0.4</td>\n",
       "      <td>Iris-setosa</td>\n",
       "    </tr>\n",
       "  </tbody>\n",
       "</table>\n",
       "</div>"
      ],
      "text/plain": [
       "   sepal length in cm  sepal width in cm  petal length in cm  \\\n",
       "0                 4.9                3.0                 1.4   \n",
       "1                 4.7                3.2                 1.3   \n",
       "2                 4.6                3.1                 1.5   \n",
       "3                 5.0                3.6                 1.4   \n",
       "4                 5.4                3.9                 1.7   \n",
       "\n",
       "   petal width in cm        class  \n",
       "0                0.2  Iris-setosa  \n",
       "1                0.2  Iris-setosa  \n",
       "2                0.2  Iris-setosa  \n",
       "3                0.2  Iris-setosa  \n",
       "4                0.4  Iris-setosa  "
      ]
     },
     "execution_count": 5,
     "metadata": {},
     "output_type": "execute_result"
    }
   ],
   "source": [
    "df.head()"
   ]
  },
  {
   "cell_type": "code",
   "execution_count": 6,
   "metadata": {},
   "outputs": [
    {
     "data": {
      "text/html": [
       "<div>\n",
       "<style scoped>\n",
       "    .dataframe tbody tr th:only-of-type {\n",
       "        vertical-align: middle;\n",
       "    }\n",
       "\n",
       "    .dataframe tbody tr th {\n",
       "        vertical-align: top;\n",
       "    }\n",
       "\n",
       "    .dataframe thead th {\n",
       "        text-align: right;\n",
       "    }\n",
       "</style>\n",
       "<table border=\"1\" class=\"dataframe\">\n",
       "  <thead>\n",
       "    <tr style=\"text-align: right;\">\n",
       "      <th></th>\n",
       "      <th>sepal length in cm</th>\n",
       "      <th>sepal width in cm</th>\n",
       "      <th>petal length in cm</th>\n",
       "      <th>petal width in cm</th>\n",
       "      <th>class</th>\n",
       "    </tr>\n",
       "  </thead>\n",
       "  <tbody>\n",
       "    <tr>\n",
       "      <th>144</th>\n",
       "      <td>6.7</td>\n",
       "      <td>3.0</td>\n",
       "      <td>5.2</td>\n",
       "      <td>2.3</td>\n",
       "      <td>Iris-virginica</td>\n",
       "    </tr>\n",
       "    <tr>\n",
       "      <th>145</th>\n",
       "      <td>6.3</td>\n",
       "      <td>2.5</td>\n",
       "      <td>5.0</td>\n",
       "      <td>1.9</td>\n",
       "      <td>Iris-virginica</td>\n",
       "    </tr>\n",
       "    <tr>\n",
       "      <th>146</th>\n",
       "      <td>6.5</td>\n",
       "      <td>3.0</td>\n",
       "      <td>5.2</td>\n",
       "      <td>2.0</td>\n",
       "      <td>Iris-virginica</td>\n",
       "    </tr>\n",
       "    <tr>\n",
       "      <th>147</th>\n",
       "      <td>6.2</td>\n",
       "      <td>3.4</td>\n",
       "      <td>5.4</td>\n",
       "      <td>2.3</td>\n",
       "      <td>Iris-virginica</td>\n",
       "    </tr>\n",
       "    <tr>\n",
       "      <th>148</th>\n",
       "      <td>5.9</td>\n",
       "      <td>3.0</td>\n",
       "      <td>5.1</td>\n",
       "      <td>1.8</td>\n",
       "      <td>Iris-virginica</td>\n",
       "    </tr>\n",
       "  </tbody>\n",
       "</table>\n",
       "</div>"
      ],
      "text/plain": [
       "     sepal length in cm  sepal width in cm  petal length in cm  \\\n",
       "144                 6.7                3.0                 5.2   \n",
       "145                 6.3                2.5                 5.0   \n",
       "146                 6.5                3.0                 5.2   \n",
       "147                 6.2                3.4                 5.4   \n",
       "148                 5.9                3.0                 5.1   \n",
       "\n",
       "     petal width in cm           class  \n",
       "144                2.3  Iris-virginica  \n",
       "145                1.9  Iris-virginica  \n",
       "146                2.0  Iris-virginica  \n",
       "147                2.3  Iris-virginica  \n",
       "148                1.8  Iris-virginica  "
      ]
     },
     "execution_count": 6,
     "metadata": {},
     "output_type": "execute_result"
    }
   ],
   "source": [
    "df.tail()"
   ]
  },
  {
   "cell_type": "code",
   "execution_count": 7,
   "metadata": {},
   "outputs": [
    {
     "data": {
      "text/plain": [
       "(149, 5)"
      ]
     },
     "execution_count": 7,
     "metadata": {},
     "output_type": "execute_result"
    }
   ],
   "source": [
    "df.shape"
   ]
  },
  {
   "cell_type": "code",
   "execution_count": 8,
   "metadata": {},
   "outputs": [
    {
     "name": "stdout",
     "output_type": "stream",
     "text": [
      "<class 'pandas.core.frame.DataFrame'>\n",
      "RangeIndex: 149 entries, 0 to 148\n",
      "Data columns (total 5 columns):\n",
      " #   Column              Non-Null Count  Dtype  \n",
      "---  ------              --------------  -----  \n",
      " 0   sepal length in cm  149 non-null    float64\n",
      " 1   sepal width in cm   149 non-null    float64\n",
      " 2   petal length in cm  149 non-null    float64\n",
      " 3   petal width in cm   149 non-null    float64\n",
      " 4   class               149 non-null    object \n",
      "dtypes: float64(4), object(1)\n",
      "memory usage: 5.9+ KB\n"
     ]
    }
   ],
   "source": [
    "df.info()"
   ]
  },
  {
   "cell_type": "markdown",
   "metadata": {},
   "source": [
    "There is no null values"
   ]
  },
  {
   "cell_type": "code",
   "execution_count": 9,
   "metadata": {},
   "outputs": [
    {
     "data": {
      "text/plain": [
       "array(['Iris-setosa', 'Iris-versicolor', 'Iris-virginica'], dtype=object)"
      ]
     },
     "execution_count": 9,
     "metadata": {},
     "output_type": "execute_result"
    }
   ],
   "source": [
    "df['class'].unique()"
   ]
  },
  {
   "cell_type": "code",
   "execution_count": 10,
   "metadata": {},
   "outputs": [
    {
     "data": {
      "text/plain": [
       "3"
      ]
     },
     "execution_count": 10,
     "metadata": {},
     "output_type": "execute_result"
    }
   ],
   "source": [
    "df.duplicated().sum()"
   ]
  },
  {
   "cell_type": "markdown",
   "metadata": {},
   "source": [
    "There is 3 duplicated rows that should be removed in preprocessing"
   ]
  },
  {
   "cell_type": "code",
   "execution_count": 11,
   "metadata": {},
   "outputs": [
    {
     "data": {
      "text/html": [
       "<div>\n",
       "<style scoped>\n",
       "    .dataframe tbody tr th:only-of-type {\n",
       "        vertical-align: middle;\n",
       "    }\n",
       "\n",
       "    .dataframe tbody tr th {\n",
       "        vertical-align: top;\n",
       "    }\n",
       "\n",
       "    .dataframe thead th {\n",
       "        text-align: right;\n",
       "    }\n",
       "</style>\n",
       "<table border=\"1\" class=\"dataframe\">\n",
       "  <thead>\n",
       "    <tr style=\"text-align: right;\">\n",
       "      <th></th>\n",
       "      <th>sepal length in cm</th>\n",
       "      <th>sepal width in cm</th>\n",
       "      <th>petal length in cm</th>\n",
       "      <th>petal width in cm</th>\n",
       "    </tr>\n",
       "  </thead>\n",
       "  <tbody>\n",
       "    <tr>\n",
       "      <th>count</th>\n",
       "      <td>149.000000</td>\n",
       "      <td>149.000000</td>\n",
       "      <td>149.000000</td>\n",
       "      <td>149.000000</td>\n",
       "    </tr>\n",
       "    <tr>\n",
       "      <th>mean</th>\n",
       "      <td>5.848322</td>\n",
       "      <td>3.051007</td>\n",
       "      <td>3.774497</td>\n",
       "      <td>1.205369</td>\n",
       "    </tr>\n",
       "    <tr>\n",
       "      <th>std</th>\n",
       "      <td>0.828594</td>\n",
       "      <td>0.433499</td>\n",
       "      <td>1.759651</td>\n",
       "      <td>0.761292</td>\n",
       "    </tr>\n",
       "    <tr>\n",
       "      <th>min</th>\n",
       "      <td>4.300000</td>\n",
       "      <td>2.000000</td>\n",
       "      <td>1.000000</td>\n",
       "      <td>0.100000</td>\n",
       "    </tr>\n",
       "    <tr>\n",
       "      <th>25%</th>\n",
       "      <td>5.100000</td>\n",
       "      <td>2.800000</td>\n",
       "      <td>1.600000</td>\n",
       "      <td>0.300000</td>\n",
       "    </tr>\n",
       "    <tr>\n",
       "      <th>50%</th>\n",
       "      <td>5.800000</td>\n",
       "      <td>3.000000</td>\n",
       "      <td>4.400000</td>\n",
       "      <td>1.300000</td>\n",
       "    </tr>\n",
       "    <tr>\n",
       "      <th>75%</th>\n",
       "      <td>6.400000</td>\n",
       "      <td>3.300000</td>\n",
       "      <td>5.100000</td>\n",
       "      <td>1.800000</td>\n",
       "    </tr>\n",
       "    <tr>\n",
       "      <th>max</th>\n",
       "      <td>7.900000</td>\n",
       "      <td>4.400000</td>\n",
       "      <td>6.900000</td>\n",
       "      <td>2.500000</td>\n",
       "    </tr>\n",
       "  </tbody>\n",
       "</table>\n",
       "</div>"
      ],
      "text/plain": [
       "       sepal length in cm  sepal width in cm  petal length in cm  \\\n",
       "count          149.000000         149.000000          149.000000   \n",
       "mean             5.848322           3.051007            3.774497   \n",
       "std              0.828594           0.433499            1.759651   \n",
       "min              4.300000           2.000000            1.000000   \n",
       "25%              5.100000           2.800000            1.600000   \n",
       "50%              5.800000           3.000000            4.400000   \n",
       "75%              6.400000           3.300000            5.100000   \n",
       "max              7.900000           4.400000            6.900000   \n",
       "\n",
       "       petal width in cm  \n",
       "count         149.000000  \n",
       "mean            1.205369  \n",
       "std             0.761292  \n",
       "min             0.100000  \n",
       "25%             0.300000  \n",
       "50%             1.300000  \n",
       "75%             1.800000  \n",
       "max             2.500000  "
      ]
     },
     "execution_count": 11,
     "metadata": {},
     "output_type": "execute_result"
    }
   ],
   "source": [
    "df.describe()"
   ]
  },
  {
   "cell_type": "markdown",
   "metadata": {},
   "source": [
    "## Preprocessing"
   ]
  },
  {
   "cell_type": "code",
   "execution_count": 12,
   "metadata": {},
   "outputs": [],
   "source": [
    "df.drop_duplicates(inplace=True)"
   ]
  },
  {
   "cell_type": "code",
   "execution_count": 13,
   "metadata": {},
   "outputs": [],
   "source": [
    "label_encoder = LabelEncoder()\n",
    "df['class'] = label_encoder.fit_transform(df['class'])"
   ]
  },
  {
   "cell_type": "markdown",
   "metadata": {},
   "source": [
    "## Splitting Data"
   ]
  },
  {
   "cell_type": "code",
   "execution_count": 14,
   "metadata": {},
   "outputs": [],
   "source": [
    "X = df.drop('class', axis=1)\n",
    "y = df['class']"
   ]
  },
  {
   "cell_type": "code",
   "execution_count": 15,
   "metadata": {},
   "outputs": [],
   "source": [
    "X_train, X_test, y_train, y_test = train_test_split(X, y, test_size=0.3, random_state=42)"
   ]
  },
  {
   "cell_type": "markdown",
   "metadata": {},
   "source": [
    "## Logistic Regressor Model"
   ]
  },
  {
   "cell_type": "code",
   "execution_count": 16,
   "metadata": {},
   "outputs": [],
   "source": [
    "model = LogisticRegression(random_state=0, max_iter=10)"
   ]
  },
  {
   "cell_type": "code",
   "execution_count": 17,
   "metadata": {},
   "outputs": [
    {
     "data": {
      "text/html": [
       "<style>#sk-container-id-1 {color: black;}#sk-container-id-1 pre{padding: 0;}#sk-container-id-1 div.sk-toggleable {background-color: white;}#sk-container-id-1 label.sk-toggleable__label {cursor: pointer;display: block;width: 100%;margin-bottom: 0;padding: 0.3em;box-sizing: border-box;text-align: center;}#sk-container-id-1 label.sk-toggleable__label-arrow:before {content: \"▸\";float: left;margin-right: 0.25em;color: #696969;}#sk-container-id-1 label.sk-toggleable__label-arrow:hover:before {color: black;}#sk-container-id-1 div.sk-estimator:hover label.sk-toggleable__label-arrow:before {color: black;}#sk-container-id-1 div.sk-toggleable__content {max-height: 0;max-width: 0;overflow: hidden;text-align: left;background-color: #f0f8ff;}#sk-container-id-1 div.sk-toggleable__content pre {margin: 0.2em;color: black;border-radius: 0.25em;background-color: #f0f8ff;}#sk-container-id-1 input.sk-toggleable__control:checked~div.sk-toggleable__content {max-height: 200px;max-width: 100%;overflow: auto;}#sk-container-id-1 input.sk-toggleable__control:checked~label.sk-toggleable__label-arrow:before {content: \"▾\";}#sk-container-id-1 div.sk-estimator input.sk-toggleable__control:checked~label.sk-toggleable__label {background-color: #d4ebff;}#sk-container-id-1 div.sk-label input.sk-toggleable__control:checked~label.sk-toggleable__label {background-color: #d4ebff;}#sk-container-id-1 input.sk-hidden--visually {border: 0;clip: rect(1px 1px 1px 1px);clip: rect(1px, 1px, 1px, 1px);height: 1px;margin: -1px;overflow: hidden;padding: 0;position: absolute;width: 1px;}#sk-container-id-1 div.sk-estimator {font-family: monospace;background-color: #f0f8ff;border: 1px dotted black;border-radius: 0.25em;box-sizing: border-box;margin-bottom: 0.5em;}#sk-container-id-1 div.sk-estimator:hover {background-color: #d4ebff;}#sk-container-id-1 div.sk-parallel-item::after {content: \"\";width: 100%;border-bottom: 1px solid gray;flex-grow: 1;}#sk-container-id-1 div.sk-label:hover label.sk-toggleable__label {background-color: #d4ebff;}#sk-container-id-1 div.sk-serial::before {content: \"\";position: absolute;border-left: 1px solid gray;box-sizing: border-box;top: 0;bottom: 0;left: 50%;z-index: 0;}#sk-container-id-1 div.sk-serial {display: flex;flex-direction: column;align-items: center;background-color: white;padding-right: 0.2em;padding-left: 0.2em;position: relative;}#sk-container-id-1 div.sk-item {position: relative;z-index: 1;}#sk-container-id-1 div.sk-parallel {display: flex;align-items: stretch;justify-content: center;background-color: white;position: relative;}#sk-container-id-1 div.sk-item::before, #sk-container-id-1 div.sk-parallel-item::before {content: \"\";position: absolute;border-left: 1px solid gray;box-sizing: border-box;top: 0;bottom: 0;left: 50%;z-index: -1;}#sk-container-id-1 div.sk-parallel-item {display: flex;flex-direction: column;z-index: 1;position: relative;background-color: white;}#sk-container-id-1 div.sk-parallel-item:first-child::after {align-self: flex-end;width: 50%;}#sk-container-id-1 div.sk-parallel-item:last-child::after {align-self: flex-start;width: 50%;}#sk-container-id-1 div.sk-parallel-item:only-child::after {width: 0;}#sk-container-id-1 div.sk-dashed-wrapped {border: 1px dashed gray;margin: 0 0.4em 0.5em 0.4em;box-sizing: border-box;padding-bottom: 0.4em;background-color: white;}#sk-container-id-1 div.sk-label label {font-family: monospace;font-weight: bold;display: inline-block;line-height: 1.2em;}#sk-container-id-1 div.sk-label-container {text-align: center;}#sk-container-id-1 div.sk-container {/* jupyter's `normalize.less` sets `[hidden] { display: none; }` but bootstrap.min.css set `[hidden] { display: none !important; }` so we also need the `!important` here to be able to override the default hidden behavior on the sphinx rendered scikit-learn.org. See: https://github.com/scikit-learn/scikit-learn/issues/21755 */display: inline-block !important;position: relative;}#sk-container-id-1 div.sk-text-repr-fallback {display: none;}</style><div id=\"sk-container-id-1\" class=\"sk-top-container\"><div class=\"sk-text-repr-fallback\"><pre>LogisticRegression(max_iter=10, random_state=0)</pre><b>In a Jupyter environment, please rerun this cell to show the HTML representation or trust the notebook. <br />On GitHub, the HTML representation is unable to render, please try loading this page with nbviewer.org.</b></div><div class=\"sk-container\" hidden><div class=\"sk-item\"><div class=\"sk-estimator sk-toggleable\"><input class=\"sk-toggleable__control sk-hidden--visually\" id=\"sk-estimator-id-1\" type=\"checkbox\" checked><label for=\"sk-estimator-id-1\" class=\"sk-toggleable__label sk-toggleable__label-arrow\">LogisticRegression</label><div class=\"sk-toggleable__content\"><pre>LogisticRegression(max_iter=10, random_state=0)</pre></div></div></div></div></div>"
      ],
      "text/plain": [
       "LogisticRegression(max_iter=10, random_state=0)"
      ]
     },
     "execution_count": 17,
     "metadata": {},
     "output_type": "execute_result"
    }
   ],
   "source": [
    "model.fit(X_train, y_train)"
   ]
  },
  {
   "cell_type": "code",
   "execution_count": 18,
   "metadata": {},
   "outputs": [
    {
     "data": {
      "text/plain": [
       "0.9803921568627451"
      ]
     },
     "execution_count": 18,
     "metadata": {},
     "output_type": "execute_result"
    }
   ],
   "source": [
    "model.score(X_train, y_train)"
   ]
  },
  {
   "cell_type": "code",
   "execution_count": 19,
   "metadata": {},
   "outputs": [],
   "source": [
    "y_pred = model.predict(X_test)"
   ]
  },
  {
   "cell_type": "code",
   "execution_count": 20,
   "metadata": {},
   "outputs": [
    {
     "data": {
      "text/plain": [
       "0.9545454545454546"
      ]
     },
     "execution_count": 20,
     "metadata": {},
     "output_type": "execute_result"
    }
   ],
   "source": [
    "accuracy = accuracy_score(y_test, y_pred)\n",
    "accuracy"
   ]
  },
  {
   "cell_type": "code",
   "execution_count": 21,
   "metadata": {},
   "outputs": [
    {
     "name": "stdout",
     "output_type": "stream",
     "text": [
      "              precision    recall  f1-score   support\n",
      "\n",
      "           0       1.00      1.00      1.00        17\n",
      "           1       1.00      0.83      0.91        12\n",
      "           2       0.88      1.00      0.94        15\n",
      "\n",
      "    accuracy                           0.95        44\n",
      "   macro avg       0.96      0.94      0.95        44\n",
      "weighted avg       0.96      0.95      0.95        44\n",
      "\n"
     ]
    }
   ],
   "source": [
    "report = classification_report(y_test, y_pred)\n",
    "print(report)"
   ]
  },
  {
   "cell_type": "markdown",
   "metadata": {},
   "source": [
    "## Command Line Interface"
   ]
  },
  {
   "cell_type": "code",
   "execution_count": 22,
   "metadata": {},
   "outputs": [],
   "source": [
    "def predict_species(sepal_length, sepal_width, petal_length, petal_width):\n",
    "    measurements = np.array([[sepal_length, sepal_width, petal_length, petal_width]])\n",
    "    prediction = model.predict(measurements)\n",
    "    return prediction[0]"
   ]
  },
  {
   "cell_type": "code",
   "execution_count": 23,
   "metadata": {},
   "outputs": [],
   "source": [
    "species = {\"Setosa\": 0, \"Versicolor\": 1, \"Virginica\": 2}"
   ]
  },
  {
   "cell_type": "code",
   "execution_count": 24,
   "metadata": {},
   "outputs": [
    {
     "name": "stdout",
     "output_type": "stream",
     "text": [
      "Please enter the measurements of the flower (in cm).\n",
      "Predicted flower species: Virginica\n"
     ]
    }
   ],
   "source": [
    "print(\"Please enter the measurements of the flower (in cm).\")\n",
    "sepal_length = float(input(\"Sepal length: \")) # 6.5\n",
    "sepal_width = float(input(\"Sepal width: \")) # 3.0\n",
    "petal_length = float(input(\"Petal length: \")) # 5.2\t\n",
    "petal_width = float(input(\"Petal width: \")) # 2.0\n",
    "\n",
    "pred = predict_species(sepal_length, sepal_width, petal_length, petal_width)\n",
    "predicted = list(species.keys())[list(species.values()).index(pred)]\n",
    "print(\"Predicted flower species:\", predicted) # Output should be virginica"
   ]
  },
  {
   "cell_type": "markdown",
   "metadata": {},
   "source": [
    "## Visualization"
   ]
  },
  {
   "cell_type": "code",
   "execution_count": 25,
   "metadata": {},
   "outputs": [
    {
     "data": {
      "image/png": "[encoded data removed]",
      "text/plain": [
       "<Figure size 800x600 with 2 Axes>"
      ]
     },
     "metadata": {},
     "output_type": "display_data"
    }
   ],
   "source": [
    "cm = confusion_matrix(y_test, y_pred)\n",
    "plt.figure(figsize=(8, 6))\n",
    "sns.heatmap(cm, cmap=\"Blues\", xticklabels=df['class'].unique(), yticklabels=df['class'].unique())\n",
    "plt.xlabel('Predicted labels')\n",
    "plt.ylabel('True labels')\n",
    "plt.title('Confusion Matrix')\n",
    "plt.show()"
   ]
  },
  {
   "cell_type": "markdown",
   "metadata": {},
   "source": [
    "## Model Tuning"
   ]
  },
  {
   "cell_type": "code",
   "execution_count": 26,
   "metadata": {},
   "outputs": [],
   "source": [
    "def objective(trial):\n",
    "    random_state = trial.suggest_int('random_state', 0, 45)\n",
    "    max_iter = trial.suggest_int('max_iter', 100, 1000)\n",
    "    \n",
    "    model = LogisticRegression(random_state=42, max_iter=100)\n",
    "\n",
    "    \n",
    "    score = cross_val_score(model, X_train, y_train, cv=5, scoring='neg_mean_squared_error', n_jobs=-1)\n",
    "    \n",
    "    return score.mean()"
   ]
  },
  {
   "cell_type": "code",
   "execution_count": 27,
   "metadata": {},
   "outputs": [
    {
     "name": "stderr",
     "output_type": "stream",
     "text": [
      "[I 2024-03-25 00:52:13,207] A new study created in memory with name: no-name-e74ccc37-3706-4a02-9e59-c8b24e91c7a1\n"
     ]
    }
   ],
   "source": [
    "study = optuna.create_study(direction='maximize', sampler=optuna.samplers.RandomSampler(seed=42))"
   ]
  },
  {
   "cell_type": "code",
   "execution_count": 28,
   "metadata": {},
   "outputs": [
    {
     "name": "stderr",
     "output_type": "stream",
     "text": [
      "[I 2024-03-25 00:52:19,890] Trial 0 finished with value: -0.02 and parameters: {'random_state': 17, 'max_iter': 956}. Best is trial 0 with value: -0.02.\n",
      "[I 2024-03-25 00:52:23,070] Trial 1 finished with value: -0.02 and parameters: {'random_state': 33, 'max_iter': 639}. Best is trial 0 with value: -0.02.\n",
      "[I 2024-03-25 00:52:26,258] Trial 2 finished with value: -0.02 and parameters: {'random_state': 7, 'max_iter': 240}. Best is trial 0 with value: -0.02.\n",
      "[I 2024-03-25 00:52:28,310] Trial 3 finished with value: -0.02 and parameters: {'random_state': 2, 'max_iter': 880}. Best is trial 0 with value: -0.02.\n",
      "[I 2024-03-25 00:52:28,372] Trial 4 finished with value: -0.02 and parameters: {'random_state': 27, 'max_iter': 737}. Best is trial 0 with value: -0.02.\n",
      "[I 2024-03-25 00:52:28,433] Trial 5 finished with value: -0.02 and parameters: {'random_state': 0, 'max_iter': 973}. Best is trial 0 with value: -0.02.\n",
      "[I 2024-03-25 00:52:28,482] Trial 6 finished with value: -0.02 and parameters: {'random_state': 38, 'max_iter': 291}. Best is trial 0 with value: -0.02.\n",
      "[I 2024-03-25 00:52:28,553] Trial 7 finished with value: -0.02 and parameters: {'random_state': 8, 'max_iter': 265}. Best is trial 0 with value: -0.02.\n",
      "[I 2024-03-25 00:52:28,615] Trial 8 finished with value: -0.02 and parameters: {'random_state': 13, 'max_iter': 572}. Best is trial 0 with value: -0.02.\n",
      "[I 2024-03-25 00:52:28,678] Trial 9 finished with value: -0.02 and parameters: {'random_state': 19, 'max_iter': 362}. Best is trial 0 with value: -0.02.\n",
      "[I 2024-03-25 00:52:28,728] Trial 10 finished with value: -0.02 and parameters: {'random_state': 28, 'max_iter': 225}. Best is trial 0 with value: -0.02.\n",
      "[I 2024-03-25 00:52:28,789] Trial 11 finished with value: -0.02 and parameters: {'random_state': 13, 'max_iter': 430}. Best is trial 0 with value: -0.02.\n",
      "[I 2024-03-25 00:52:28,861] Trial 12 finished with value: -0.02 and parameters: {'random_state': 20, 'max_iter': 807}. Best is trial 0 with value: -0.02.\n",
      "[I 2024-03-25 00:52:28,935] Trial 13 finished with value: -0.02 and parameters: {'random_state': 9, 'max_iter': 563}. Best is trial 0 with value: -0.02.\n",
      "[I 2024-03-25 00:52:29,010] Trial 14 finished with value: -0.02 and parameters: {'random_state': 27, 'max_iter': 141}. Best is trial 0 with value: -0.02.\n",
      "[I 2024-03-25 00:52:29,084] Trial 15 finished with value: -0.02 and parameters: {'random_state': 27, 'max_iter': 253}. Best is trial 0 with value: -0.02.\n",
      "[I 2024-03-25 00:52:29,158] Trial 16 finished with value: -0.02 and parameters: {'random_state': 2, 'max_iter': 954}. Best is trial 0 with value: -0.02.\n",
      "[I 2024-03-25 00:52:29,244] Trial 17 finished with value: -0.02 and parameters: {'random_state': 44, 'max_iter': 828}. Best is trial 0 with value: -0.02.\n",
      "[I 2024-03-25 00:52:29,328] Trial 18 finished with value: -0.02 and parameters: {'random_state': 14, 'max_iter': 188}. Best is trial 0 with value: -0.02.\n",
      "[I 2024-03-25 00:52:29,414] Trial 19 finished with value: -0.02 and parameters: {'random_state': 31, 'max_iter': 496}. Best is trial 0 with value: -0.02.\n",
      "[I 2024-03-25 00:52:29,498] Trial 20 finished with value: -0.02 and parameters: {'random_state': 5, 'max_iter': 546}. Best is trial 0 with value: -0.02.\n",
      "[I 2024-03-25 00:52:29,576] Trial 21 finished with value: -0.02 and parameters: {'random_state': 1, 'max_iter': 919}. Best is trial 0 with value: -0.02.\n",
      "[I 2024-03-25 00:52:29,662] Trial 22 finished with value: -0.02 and parameters: {'random_state': 11, 'max_iter': 696}. Best is trial 0 with value: -0.02.\n",
      "[I 2024-03-25 00:52:29,750] Trial 23 finished with value: -0.02 and parameters: {'random_state': 14, 'max_iter': 568}. Best is trial 0 with value: -0.02.\n",
      "[I 2024-03-25 00:52:29,835] Trial 24 finished with value: -0.02 and parameters: {'random_state': 25, 'max_iter': 266}. Best is trial 0 with value: -0.02.\n",
      "[I 2024-03-25 00:52:29,922] Trial 25 finished with value: -0.02 and parameters: {'random_state': 44, 'max_iter': 798}. Best is trial 0 with value: -0.02.\n",
      "[I 2024-03-25 00:52:30,008] Trial 26 finished with value: -0.02 and parameters: {'random_state': 43, 'max_iter': 906}. Best is trial 0 with value: -0.02.\n",
      "[I 2024-03-25 00:52:30,096] Trial 27 finished with value: -0.02 and parameters: {'random_state': 27, 'max_iter': 930}. Best is trial 0 with value: -0.02.\n",
      "[I 2024-03-25 00:52:30,181] Trial 28 finished with value: -0.02 and parameters: {'random_state': 4, 'max_iter': 276}. Best is trial 0 with value: -0.02.\n",
      "[I 2024-03-25 00:52:30,269] Trial 29 finished with value: -0.02 and parameters: {'random_state': 2, 'max_iter': 393}. Best is trial 0 with value: -0.02.\n",
      "[I 2024-03-25 00:52:30,364] Trial 30 finished with value: -0.02 and parameters: {'random_state': 17, 'max_iter': 344}. Best is trial 0 with value: -0.02.\n",
      "[I 2024-03-25 00:52:30,449] Trial 31 finished with value: -0.02 and parameters: {'random_state': 38, 'max_iter': 421}. Best is trial 0 with value: -0.02.\n",
      "[I 2024-03-25 00:52:30,535] Trial 32 finished with value: -0.02 and parameters: {'random_state': 12, 'max_iter': 588}. Best is trial 0 with value: -0.02.\n",
      "[I 2024-03-25 00:52:30,622] Trial 33 finished with value: -0.02 and parameters: {'random_state': 6, 'max_iter': 822}. Best is trial 0 with value: -0.02.\n",
      "[I 2024-03-25 00:52:30,709] Trial 34 finished with value: -0.02 and parameters: {'random_state': 3, 'max_iter': 989}. Best is trial 0 with value: -0.02.\n",
      "[I 2024-03-25 00:52:30,812] Trial 35 finished with value: -0.02 and parameters: {'random_state': 35, 'max_iter': 279}. Best is trial 0 with value: -0.02.\n",
      "[I 2024-03-25 00:52:30,912] Trial 36 finished with value: -0.02 and parameters: {'random_state': 0, 'max_iter': 834}. Best is trial 0 with value: -0.02.\n",
      "[I 2024-03-25 00:52:31,010] Trial 37 finished with value: -0.02 and parameters: {'random_state': 32, 'max_iter': 756}. Best is trial 0 with value: -0.02.\n",
      "[I 2024-03-25 00:52:31,097] Trial 38 finished with value: -0.02 and parameters: {'random_state': 35, 'max_iter': 166}. Best is trial 0 with value: -0.02.\n",
      "[I 2024-03-25 00:52:31,172] Trial 39 finished with value: -0.02 and parameters: {'random_state': 16, 'max_iter': 204}. Best is trial 0 with value: -0.02.\n",
      "[I 2024-03-25 00:52:31,249] Trial 40 finished with value: -0.02 and parameters: {'random_state': 39, 'max_iter': 661}. Best is trial 0 with value: -0.02.\n",
      "[I 2024-03-25 00:52:31,334] Trial 41 finished with value: -0.02 and parameters: {'random_state': 15, 'max_iter': 157}. Best is trial 0 with value: -0.02.\n",
      "[I 2024-03-25 00:52:31,420] Trial 42 finished with value: -0.02 and parameters: {'random_state': 14, 'max_iter': 392}. Best is trial 0 with value: -0.02.\n",
      "[I 2024-03-25 00:52:31,520] Trial 43 finished with value: -0.02 and parameters: {'random_state': 33, 'max_iter': 674}. Best is trial 0 with value: -0.02.\n",
      "[I 2024-03-25 00:52:31,595] Trial 44 finished with value: -0.02 and parameters: {'random_state': 40, 'max_iter': 525}. Best is trial 0 with value: -0.02.\n",
      "[I 2024-03-25 00:52:31,681] Trial 45 finished with value: -0.02 and parameters: {'random_state': 5, 'max_iter': 742}. Best is trial 0 with value: -0.02.\n",
      "[I 2024-03-25 00:52:31,770] Trial 46 finished with value: -0.02 and parameters: {'random_state': 34, 'max_iter': 605}. Best is trial 0 with value: -0.02.\n",
      "[I 2024-03-25 00:52:31,857] Trial 47 finished with value: -0.02 and parameters: {'random_state': 35, 'max_iter': 544}. Best is trial 0 with value: -0.02.\n",
      "[I 2024-03-25 00:52:31,932] Trial 48 finished with value: -0.02 and parameters: {'random_state': 24, 'max_iter': 485}. Best is trial 0 with value: -0.02.\n",
      "[I 2024-03-25 00:52:32,009] Trial 49 finished with value: -0.02 and parameters: {'random_state': 1, 'max_iter': 197}. Best is trial 0 with value: -0.02.\n",
      "[I 2024-03-25 00:52:32,083] Trial 50 finished with value: -0.02 and parameters: {'random_state': 1, 'max_iter': 673}. Best is trial 0 with value: -0.02.\n",
      "[I 2024-03-25 00:52:32,178] Trial 51 finished with value: -0.02 and parameters: {'random_state': 14, 'max_iter': 558}. Best is trial 0 with value: -0.02.\n",
      "[I 2024-03-25 00:52:32,253] Trial 52 finished with value: -0.02 and parameters: {'random_state': 41, 'max_iter': 324}. Best is trial 0 with value: -0.02.\n",
      "[I 2024-03-25 00:52:32,337] Trial 53 finished with value: -0.02 and parameters: {'random_state': 18, 'max_iter': 780}. Best is trial 0 with value: -0.02.\n",
      "[I 2024-03-25 00:52:32,415] Trial 54 finished with value: -0.02 and parameters: {'random_state': 10, 'max_iter': 169}. Best is trial 0 with value: -0.02.\n",
      "[I 2024-03-25 00:52:32,499] Trial 55 finished with value: -0.02 and parameters: {'random_state': 13, 'max_iter': 245}. Best is trial 0 with value: -0.02.\n",
      "[I 2024-03-25 00:52:32,575] Trial 56 finished with value: -0.02 and parameters: {'random_state': 42, 'max_iter': 828}. Best is trial 0 with value: -0.02.\n",
      "[I 2024-03-25 00:52:32,649] Trial 57 finished with value: -0.02 and parameters: {'random_state': 29, 'max_iter': 885}. Best is trial 0 with value: -0.02.\n",
      "[I 2024-03-25 00:52:32,723] Trial 58 finished with value: -0.02 and parameters: {'random_state': 36, 'max_iter': 268}. Best is trial 0 with value: -0.02.\n",
      "[I 2024-03-25 00:52:32,797] Trial 59 finished with value: -0.02 and parameters: {'random_state': 41, 'max_iter': 585}. Best is trial 0 with value: -0.02.\n",
      "[I 2024-03-25 00:52:32,882] Trial 60 finished with value: -0.02 and parameters: {'random_state': 37, 'max_iter': 907}. Best is trial 0 with value: -0.02.\n",
      "[I 2024-03-25 00:52:32,945] Trial 61 finished with value: -0.02 and parameters: {'random_state': 14, 'max_iter': 199}. Best is trial 0 with value: -0.02.\n",
      "[I 2024-03-25 00:52:33,019] Trial 62 finished with value: -0.02 and parameters: {'random_state': 10, 'max_iter': 484}. Best is trial 0 with value: -0.02.\n",
      "[I 2024-03-25 00:52:33,101] Trial 63 finished with value: -0.02 and parameters: {'random_state': 37, 'max_iter': 875}. Best is trial 0 with value: -0.02.\n",
      "[I 2024-03-25 00:52:33,164] Trial 64 finished with value: -0.02 and parameters: {'random_state': 0, 'max_iter': 560}. Best is trial 0 with value: -0.02.\n",
      "[I 2024-03-25 00:52:33,239] Trial 65 finished with value: -0.02 and parameters: {'random_state': 19, 'max_iter': 300}. Best is trial 0 with value: -0.02.\n",
      "[I 2024-03-25 00:52:33,303] Trial 66 finished with value: -0.02 and parameters: {'random_state': 5, 'max_iter': 404}. Best is trial 0 with value: -0.02.\n",
      "[I 2024-03-25 00:52:33,377] Trial 67 finished with value: -0.02 and parameters: {'random_state': 43, 'max_iter': 391}. Best is trial 0 with value: -0.02.\n",
      "[I 2024-03-25 00:52:33,453] Trial 68 finished with value: -0.02 and parameters: {'random_state': 23, 'max_iter': 733}. Best is trial 0 with value: -0.02.\n",
      "[I 2024-03-25 00:52:33,536] Trial 69 finished with value: -0.02 and parameters: {'random_state': 16, 'max_iter': 975}. Best is trial 0 with value: -0.02.\n",
      "[I 2024-03-25 00:52:33,610] Trial 70 finished with value: -0.02 and parameters: {'random_state': 44, 'max_iter': 326}. Best is trial 0 with value: -0.02.\n",
      "[I 2024-03-25 00:52:33,674] Trial 71 finished with value: -0.02 and parameters: {'random_state': 22, 'max_iter': 371}. Best is trial 0 with value: -0.02.\n",
      "[I 2024-03-25 00:52:33,738] Trial 72 finished with value: -0.02 and parameters: {'random_state': 13, 'max_iter': 133}. Best is trial 0 with value: -0.02.\n",
      "[I 2024-03-25 00:52:33,801] Trial 73 finished with value: -0.02 and parameters: {'random_state': 28, 'max_iter': 552}. Best is trial 0 with value: -0.02.\n",
      "[I 2024-03-25 00:52:33,874] Trial 74 finished with value: -0.02 and parameters: {'random_state': 2, 'max_iter': 351}. Best is trial 0 with value: -0.02.\n",
      "[I 2024-03-25 00:52:33,936] Trial 75 finished with value: -0.02 and parameters: {'random_state': 41, 'max_iter': 315}. Best is trial 0 with value: -0.02.\n",
      "[I 2024-03-25 00:52:34,009] Trial 76 finished with value: -0.02 and parameters: {'random_state': 6, 'max_iter': 540}. Best is trial 0 with value: -0.02.\n",
      "[I 2024-03-25 00:52:34,073] Trial 77 finished with value: -0.02 and parameters: {'random_state': 45, 'max_iter': 318}. Best is trial 0 with value: -0.02.\n",
      "[I 2024-03-25 00:52:34,148] Trial 78 finished with value: -0.02 and parameters: {'random_state': 30, 'max_iter': 786}. Best is trial 0 with value: -0.02.\n",
      "[I 2024-03-25 00:52:34,221] Trial 79 finished with value: -0.02 and parameters: {'random_state': 10, 'max_iter': 756}. Best is trial 0 with value: -0.02.\n",
      "[I 2024-03-25 00:52:34,284] Trial 80 finished with value: -0.02 and parameters: {'random_state': 16, 'max_iter': 669}. Best is trial 0 with value: -0.02.\n",
      "[I 2024-03-25 00:52:34,360] Trial 81 finished with value: -0.02 and parameters: {'random_state': 29, 'max_iter': 582}. Best is trial 0 with value: -0.02.\n",
      "[I 2024-03-25 00:52:34,423] Trial 82 finished with value: -0.02 and parameters: {'random_state': 4, 'max_iter': 852}. Best is trial 0 with value: -0.02.\n",
      "[I 2024-03-25 00:52:34,497] Trial 83 finished with value: -0.02 and parameters: {'random_state': 14, 'max_iter': 268}. Best is trial 0 with value: -0.02.\n",
      "[I 2024-03-25 00:52:34,560] Trial 84 finished with value: -0.02 and parameters: {'random_state': 1, 'max_iter': 632}. Best is trial 0 with value: -0.02.\n",
      "[I 2024-03-25 00:52:34,643] Trial 85 finished with value: -0.02 and parameters: {'random_state': 31, 'max_iter': 114}. Best is trial 0 with value: -0.02.\n",
      "[I 2024-03-25 00:52:34,705] Trial 86 finished with value: -0.02 and parameters: {'random_state': 23, 'max_iter': 304}. Best is trial 0 with value: -0.02.\n",
      "[I 2024-03-25 00:52:34,768] Trial 87 finished with value: -0.02 and parameters: {'random_state': 29, 'max_iter': 257}. Best is trial 0 with value: -0.02.\n",
      "[I 2024-03-25 00:52:34,841] Trial 88 finished with value: -0.02 and parameters: {'random_state': 31, 'max_iter': 448}. Best is trial 0 with value: -0.02.\n",
      "[I 2024-03-25 00:52:34,915] Trial 89 finished with value: -0.02 and parameters: {'random_state': 43, 'max_iter': 223}. Best is trial 0 with value: -0.02.\n",
      "[I 2024-03-25 00:52:34,988] Trial 90 finished with value: -0.02 and parameters: {'random_state': 15, 'max_iter': 202}. Best is trial 0 with value: -0.02.\n",
      "[I 2024-03-25 00:52:35,050] Trial 91 finished with value: -0.02 and parameters: {'random_state': 42, 'max_iter': 890}. Best is trial 0 with value: -0.02.\n",
      "[I 2024-03-25 00:52:35,125] Trial 92 finished with value: -0.02 and parameters: {'random_state': 11, 'max_iter': 694}. Best is trial 0 with value: -0.02.\n",
      "[I 2024-03-25 00:52:35,189] Trial 93 finished with value: -0.02 and parameters: {'random_state': 37, 'max_iter': 600}. Best is trial 0 with value: -0.02.\n",
      "[I 2024-03-25 00:52:35,262] Trial 94 finished with value: -0.02 and parameters: {'random_state': 24, 'max_iter': 317}. Best is trial 0 with value: -0.02.\n",
      "[I 2024-03-25 00:52:35,327] Trial 95 finished with value: -0.02 and parameters: {'random_state': 4, 'max_iter': 908}. Best is trial 0 with value: -0.02.\n",
      "[I 2024-03-25 00:52:35,400] Trial 96 finished with value: -0.02 and parameters: {'random_state': 41, 'max_iter': 670}. Best is trial 0 with value: -0.02.\n",
      "[I 2024-03-25 00:52:35,473] Trial 97 finished with value: -0.02 and parameters: {'random_state': 15, 'max_iter': 414}. Best is trial 0 with value: -0.02.\n",
      "[I 2024-03-25 00:52:35,536] Trial 98 finished with value: -0.02 and parameters: {'random_state': 33, 'max_iter': 908}. Best is trial 0 with value: -0.02.\n",
      "[I 2024-03-25 00:52:35,599] Trial 99 finished with value: -0.02 and parameters: {'random_state': 40, 'max_iter': 802}. Best is trial 0 with value: -0.02.\n",
      "[I 2024-03-25 00:52:35,683] Trial 100 finished with value: -0.02 and parameters: {'random_state': 29, 'max_iter': 175}. Best is trial 0 with value: -0.02.\n",
      "[I 2024-03-25 00:52:35,746] Trial 101 finished with value: -0.02 and parameters: {'random_state': 7, 'max_iter': 909}. Best is trial 0 with value: -0.02.\n",
      "[I 2024-03-25 00:52:35,820] Trial 102 finished with value: -0.02 and parameters: {'random_state': 27, 'max_iter': 108}. Best is trial 0 with value: -0.02.\n",
      "[I 2024-03-25 00:52:35,894] Trial 103 finished with value: -0.02 and parameters: {'random_state': 4, 'max_iter': 697}. Best is trial 0 with value: -0.02.\n",
      "[I 2024-03-25 00:52:35,969] Trial 104 finished with value: -0.02 and parameters: {'random_state': 0, 'max_iter': 244}. Best is trial 0 with value: -0.02.\n",
      "[I 2024-03-25 00:52:36,041] Trial 105 finished with value: -0.02 and parameters: {'random_state': 25, 'max_iter': 723}. Best is trial 0 with value: -0.02.\n",
      "[I 2024-03-25 00:52:36,115] Trial 106 finished with value: -0.02 and parameters: {'random_state': 29, 'max_iter': 302}. Best is trial 0 with value: -0.02.\n",
      "[I 2024-03-25 00:52:36,178] Trial 107 finished with value: -0.02 and parameters: {'random_state': 32, 'max_iter': 313}. Best is trial 0 with value: -0.02.\n",
      "[I 2024-03-25 00:52:36,241] Trial 108 finished with value: -0.02 and parameters: {'random_state': 14, 'max_iter': 772}. Best is trial 0 with value: -0.02.\n",
      "[I 2024-03-25 00:52:36,304] Trial 109 finished with value: -0.02 and parameters: {'random_state': 29, 'max_iter': 865}. Best is trial 0 with value: -0.02.\n",
      "[I 2024-03-25 00:52:36,367] Trial 110 finished with value: -0.02 and parameters: {'random_state': 30, 'max_iter': 612}. Best is trial 0 with value: -0.02.\n",
      "[I 2024-03-25 00:52:36,452] Trial 111 finished with value: -0.02 and parameters: {'random_state': 4, 'max_iter': 431}. Best is trial 0 with value: -0.02.\n",
      "[I 2024-03-25 00:52:36,524] Trial 112 finished with value: -0.02 and parameters: {'random_state': 12, 'max_iter': 319}. Best is trial 0 with value: -0.02.\n",
      "[I 2024-03-25 00:52:36,598] Trial 113 finished with value: -0.02 and parameters: {'random_state': 44, 'max_iter': 454}. Best is trial 0 with value: -0.02.\n",
      "[I 2024-03-25 00:52:36,661] Trial 114 finished with value: -0.02 and parameters: {'random_state': 41, 'max_iter': 668}. Best is trial 0 with value: -0.02.\n",
      "[I 2024-03-25 00:52:36,735] Trial 115 finished with value: -0.02 and parameters: {'random_state': 36, 'max_iter': 552}. Best is trial 0 with value: -0.02.\n",
      "[I 2024-03-25 00:52:36,800] Trial 116 finished with value: -0.02 and parameters: {'random_state': 26, 'max_iter': 543}. Best is trial 0 with value: -0.02.\n",
      "[I 2024-03-25 00:52:36,873] Trial 117 finished with value: -0.02 and parameters: {'random_state': 8, 'max_iter': 750}. Best is trial 0 with value: -0.02.\n",
      "[I 2024-03-25 00:52:36,937] Trial 118 finished with value: -0.02 and parameters: {'random_state': 12, 'max_iter': 121}. Best is trial 0 with value: -0.02.\n",
      "[I 2024-03-25 00:52:37,010] Trial 119 finished with value: -0.02 and parameters: {'random_state': 29, 'max_iter': 259}. Best is trial 0 with value: -0.02.\n",
      "[I 2024-03-25 00:52:37,095] Trial 120 finished with value: -0.02 and parameters: {'random_state': 43, 'max_iter': 959}. Best is trial 0 with value: -0.02.\n",
      "[I 2024-03-25 00:52:37,170] Trial 121 finished with value: -0.02 and parameters: {'random_state': 42, 'max_iter': 433}. Best is trial 0 with value: -0.02.\n",
      "[I 2024-03-25 00:52:37,244] Trial 122 finished with value: -0.02 and parameters: {'random_state': 0, 'max_iter': 936}. Best is trial 0 with value: -0.02.\n",
      "[I 2024-03-25 00:52:37,318] Trial 123 finished with value: -0.02 and parameters: {'random_state': 19, 'max_iter': 970}. Best is trial 0 with value: -0.02.\n",
      "[I 2024-03-25 00:52:37,391] Trial 124 finished with value: -0.02 and parameters: {'random_state': 44, 'max_iter': 868}. Best is trial 0 with value: -0.02.\n",
      "[I 2024-03-25 00:52:37,454] Trial 125 finished with value: -0.02 and parameters: {'random_state': 13, 'max_iter': 446}. Best is trial 0 with value: -0.02.\n",
      "[I 2024-03-25 00:52:37,529] Trial 126 finished with value: -0.02 and parameters: {'random_state': 39, 'max_iter': 385}. Best is trial 0 with value: -0.02.\n",
      "[I 2024-03-25 00:52:37,601] Trial 127 finished with value: -0.02 and parameters: {'random_state': 7, 'max_iter': 601}. Best is trial 0 with value: -0.02.\n",
      "[I 2024-03-25 00:52:37,690] Trial 128 finished with value: -0.02 and parameters: {'random_state': 43, 'max_iter': 727}. Best is trial 0 with value: -0.02.\n",
      "[I 2024-03-25 00:52:37,764] Trial 129 finished with value: -0.02 and parameters: {'random_state': 26, 'max_iter': 187}. Best is trial 0 with value: -0.02.\n",
      "[I 2024-03-25 00:52:37,837] Trial 130 finished with value: -0.02 and parameters: {'random_state': 28, 'max_iter': 992}. Best is trial 0 with value: -0.02.\n",
      "[I 2024-03-25 00:52:37,899] Trial 131 finished with value: -0.02 and parameters: {'random_state': 6, 'max_iter': 567}. Best is trial 0 with value: -0.02.\n",
      "[I 2024-03-25 00:52:37,974] Trial 132 finished with value: -0.02 and parameters: {'random_state': 40, 'max_iter': 767}. Best is trial 0 with value: -0.02.\n",
      "[I 2024-03-25 00:52:38,047] Trial 133 finished with value: -0.02 and parameters: {'random_state': 32, 'max_iter': 732}. Best is trial 0 with value: -0.02.\n",
      "[I 2024-03-25 00:52:38,130] Trial 134 finished with value: -0.02 and parameters: {'random_state': 16, 'max_iter': 364}. Best is trial 0 with value: -0.02.\n",
      "[I 2024-03-25 00:52:38,203] Trial 135 finished with value: -0.02 and parameters: {'random_state': 37, 'max_iter': 829}. Best is trial 0 with value: -0.02.\n",
      "[I 2024-03-25 00:52:38,277] Trial 136 finished with value: -0.02 and parameters: {'random_state': 39, 'max_iter': 922}. Best is trial 0 with value: -0.02.\n",
      "[I 2024-03-25 00:52:38,340] Trial 137 finished with value: -0.02 and parameters: {'random_state': 23, 'max_iter': 551}. Best is trial 0 with value: -0.02.\n",
      "[I 2024-03-25 00:52:38,414] Trial 138 finished with value: -0.02 and parameters: {'random_state': 36, 'max_iter': 685}. Best is trial 0 with value: -0.02.\n",
      "[I 2024-03-25 00:52:38,477] Trial 139 finished with value: -0.02 and parameters: {'random_state': 32, 'max_iter': 817}. Best is trial 0 with value: -0.02.\n",
      "[I 2024-03-25 00:52:38,541] Trial 140 finished with value: -0.02 and parameters: {'random_state': 40, 'max_iter': 404}. Best is trial 0 with value: -0.02.\n",
      "[I 2024-03-25 00:52:38,615] Trial 141 finished with value: -0.02 and parameters: {'random_state': 17, 'max_iter': 184}. Best is trial 0 with value: -0.02.\n",
      "[I 2024-03-25 00:52:38,699] Trial 142 finished with value: -0.02 and parameters: {'random_state': 26, 'max_iter': 132}. Best is trial 0 with value: -0.02.\n",
      "[I 2024-03-25 00:52:38,773] Trial 143 finished with value: -0.02 and parameters: {'random_state': 21, 'max_iter': 588}. Best is trial 0 with value: -0.02.\n",
      "[I 2024-03-25 00:52:38,848] Trial 144 finished with value: -0.02 and parameters: {'random_state': 13, 'max_iter': 632}. Best is trial 0 with value: -0.02.\n",
      "[I 2024-03-25 00:52:38,923] Trial 145 finished with value: -0.02 and parameters: {'random_state': 1, 'max_iter': 133}. Best is trial 0 with value: -0.02.\n",
      "[I 2024-03-25 00:52:38,995] Trial 146 finished with value: -0.02 and parameters: {'random_state': 37, 'max_iter': 424}. Best is trial 0 with value: -0.02.\n",
      "[I 2024-03-25 00:52:39,069] Trial 147 finished with value: -0.02 and parameters: {'random_state': 5, 'max_iter': 570}. Best is trial 0 with value: -0.02.\n",
      "[I 2024-03-25 00:52:39,144] Trial 148 finished with value: -0.02 and parameters: {'random_state': 35, 'max_iter': 294}. Best is trial 0 with value: -0.02.\n",
      "[I 2024-03-25 00:52:39,217] Trial 149 finished with value: -0.02 and parameters: {'random_state': 28, 'max_iter': 176}. Best is trial 0 with value: -0.02.\n",
      "[I 2024-03-25 00:52:39,280] Trial 150 finished with value: -0.02 and parameters: {'random_state': 2, 'max_iter': 578}. Best is trial 0 with value: -0.02.\n",
      "[I 2024-03-25 00:52:39,355] Trial 151 finished with value: -0.02 and parameters: {'random_state': 24, 'max_iter': 674}. Best is trial 0 with value: -0.02.\n",
      "[I 2024-03-25 00:52:39,428] Trial 152 finished with value: -0.02 and parameters: {'random_state': 33, 'max_iter': 979}. Best is trial 0 with value: -0.02.\n",
      "[I 2024-03-25 00:52:39,503] Trial 153 finished with value: -0.02 and parameters: {'random_state': 23, 'max_iter': 390}. Best is trial 0 with value: -0.02.\n",
      "[I 2024-03-25 00:52:39,564] Trial 154 finished with value: -0.02 and parameters: {'random_state': 36, 'max_iter': 344}. Best is trial 0 with value: -0.02.\n",
      "[I 2024-03-25 00:52:39,627] Trial 155 finished with value: -0.02 and parameters: {'random_state': 20, 'max_iter': 170}. Best is trial 0 with value: -0.02.\n",
      "[I 2024-03-25 00:52:39,700] Trial 156 finished with value: -0.02 and parameters: {'random_state': 1, 'max_iter': 967}. Best is trial 0 with value: -0.02.\n",
      "[I 2024-03-25 00:52:39,763] Trial 157 finished with value: -0.02 and parameters: {'random_state': 38, 'max_iter': 727}. Best is trial 0 with value: -0.02.\n",
      "[I 2024-03-25 00:52:39,827] Trial 158 finished with value: -0.02 and parameters: {'random_state': 18, 'max_iter': 256}. Best is trial 0 with value: -0.02.\n",
      "[I 2024-03-25 00:52:39,901] Trial 159 finished with value: -0.02 and parameters: {'random_state': 7, 'max_iter': 325}. Best is trial 0 with value: -0.02.\n",
      "[I 2024-03-25 00:52:39,965] Trial 160 finished with value: -0.02 and parameters: {'random_state': 25, 'max_iter': 743}. Best is trial 0 with value: -0.02.\n",
      "[I 2024-03-25 00:52:40,038] Trial 161 finished with value: -0.02 and parameters: {'random_state': 30, 'max_iter': 352}. Best is trial 0 with value: -0.02.\n",
      "[I 2024-03-25 00:52:40,111] Trial 162 finished with value: -0.02 and parameters: {'random_state': 43, 'max_iter': 764}. Best is trial 0 with value: -0.02.\n",
      "[I 2024-03-25 00:52:40,184] Trial 163 finished with value: -0.02 and parameters: {'random_state': 25, 'max_iter': 651}. Best is trial 0 with value: -0.02.\n",
      "[I 2024-03-25 00:52:40,259] Trial 164 finished with value: -0.02 and parameters: {'random_state': 19, 'max_iter': 323}. Best is trial 0 with value: -0.02.\n",
      "[I 2024-03-25 00:52:40,334] Trial 165 finished with value: -0.02 and parameters: {'random_state': 16, 'max_iter': 782}. Best is trial 0 with value: -0.02.\n",
      "[I 2024-03-25 00:52:40,401] Trial 166 finished with value: -0.02 and parameters: {'random_state': 0, 'max_iter': 204}. Best is trial 0 with value: -0.02.\n",
      "[I 2024-03-25 00:52:40,473] Trial 167 finished with value: -0.02 and parameters: {'random_state': 2, 'max_iter': 136}. Best is trial 0 with value: -0.02.\n",
      "[I 2024-03-25 00:52:40,547] Trial 168 finished with value: -0.02 and parameters: {'random_state': 39, 'max_iter': 733}. Best is trial 0 with value: -0.02.\n",
      "[I 2024-03-25 00:52:40,620] Trial 169 finished with value: -0.02 and parameters: {'random_state': 21, 'max_iter': 188}. Best is trial 0 with value: -0.02.\n",
      "[I 2024-03-25 00:52:40,693] Trial 170 finished with value: -0.02 and parameters: {'random_state': 22, 'max_iter': 526}. Best is trial 0 with value: -0.02.\n",
      "[I 2024-03-25 00:52:40,768] Trial 171 finished with value: -0.02 and parameters: {'random_state': 7, 'max_iter': 490}. Best is trial 0 with value: -0.02.\n",
      "[I 2024-03-25 00:52:40,843] Trial 172 finished with value: -0.02 and parameters: {'random_state': 18, 'max_iter': 654}. Best is trial 0 with value: -0.02.\n",
      "[I 2024-03-25 00:52:40,916] Trial 173 finished with value: -0.02 and parameters: {'random_state': 29, 'max_iter': 140}. Best is trial 0 with value: -0.02.\n",
      "[I 2024-03-25 00:52:40,978] Trial 174 finished with value: -0.02 and parameters: {'random_state': 17, 'max_iter': 663}. Best is trial 0 with value: -0.02.\n",
      "[I 2024-03-25 00:52:41,052] Trial 175 finished with value: -0.02 and parameters: {'random_state': 23, 'max_iter': 871}. Best is trial 0 with value: -0.02.\n",
      "[I 2024-03-25 00:52:41,126] Trial 176 finished with value: -0.02 and parameters: {'random_state': 30, 'max_iter': 246}. Best is trial 0 with value: -0.02.\n",
      "[I 2024-03-25 00:52:41,198] Trial 177 finished with value: -0.02 and parameters: {'random_state': 3, 'max_iter': 678}. Best is trial 0 with value: -0.02.\n",
      "[I 2024-03-25 00:52:41,272] Trial 178 finished with value: -0.02 and parameters: {'random_state': 1, 'max_iter': 627}. Best is trial 0 with value: -0.02.\n",
      "[I 2024-03-25 00:52:41,334] Trial 179 finished with value: -0.02 and parameters: {'random_state': 43, 'max_iter': 618}. Best is trial 0 with value: -0.02.\n",
      "[I 2024-03-25 00:52:41,398] Trial 180 finished with value: -0.02 and parameters: {'random_state': 17, 'max_iter': 679}. Best is trial 0 with value: -0.02.\n",
      "[I 2024-03-25 00:52:41,461] Trial 181 finished with value: -0.02 and parameters: {'random_state': 21, 'max_iter': 591}. Best is trial 0 with value: -0.02.\n",
      "[I 2024-03-25 00:52:41,535] Trial 182 finished with value: -0.02 and parameters: {'random_state': 43, 'max_iter': 447}. Best is trial 0 with value: -0.02.\n",
      "[I 2024-03-25 00:52:41,599] Trial 183 finished with value: -0.02 and parameters: {'random_state': 44, 'max_iter': 915}. Best is trial 0 with value: -0.02.\n",
      "[I 2024-03-25 00:52:41,663] Trial 184 finished with value: -0.02 and parameters: {'random_state': 9, 'max_iter': 162}. Best is trial 0 with value: -0.02.\n",
      "[I 2024-03-25 00:52:41,736] Trial 185 finished with value: -0.02 and parameters: {'random_state': 4, 'max_iter': 116}. Best is trial 0 with value: -0.02.\n",
      "[I 2024-03-25 00:52:41,799] Trial 186 finished with value: -0.02 and parameters: {'random_state': 4, 'max_iter': 715}. Best is trial 0 with value: -0.02.\n",
      "[I 2024-03-25 00:52:41,862] Trial 187 finished with value: -0.02 and parameters: {'random_state': 3, 'max_iter': 387}. Best is trial 0 with value: -0.02.\n",
      "[I 2024-03-25 00:52:41,937] Trial 188 finished with value: -0.02 and parameters: {'random_state': 38, 'max_iter': 120}. Best is trial 0 with value: -0.02.\n",
      "[I 2024-03-25 00:52:41,998] Trial 189 finished with value: -0.02 and parameters: {'random_state': 37, 'max_iter': 353}. Best is trial 0 with value: -0.02.\n",
      "[I 2024-03-25 00:52:42,060] Trial 190 finished with value: -0.02 and parameters: {'random_state': 5, 'max_iter': 727}. Best is trial 0 with value: -0.02.\n",
      "[I 2024-03-25 00:52:42,133] Trial 191 finished with value: -0.02 and parameters: {'random_state': 28, 'max_iter': 890}. Best is trial 0 with value: -0.02.\n",
      "[I 2024-03-25 00:52:42,197] Trial 192 finished with value: -0.02 and parameters: {'random_state': 33, 'max_iter': 823}. Best is trial 0 with value: -0.02.\n",
      "[I 2024-03-25 00:52:42,260] Trial 193 finished with value: -0.02 and parameters: {'random_state': 12, 'max_iter': 259}. Best is trial 0 with value: -0.02.\n",
      "[I 2024-03-25 00:52:42,335] Trial 194 finished with value: -0.02 and parameters: {'random_state': 34, 'max_iter': 826}. Best is trial 0 with value: -0.02.\n",
      "[I 2024-03-25 00:52:42,398] Trial 195 finished with value: -0.02 and parameters: {'random_state': 45, 'max_iter': 471}. Best is trial 0 with value: -0.02.\n",
      "[I 2024-03-25 00:52:42,471] Trial 196 finished with value: -0.02 and parameters: {'random_state': 17, 'max_iter': 799}. Best is trial 0 with value: -0.02.\n",
      "[I 2024-03-25 00:52:42,535] Trial 197 finished with value: -0.02 and parameters: {'random_state': 15, 'max_iter': 938}. Best is trial 0 with value: -0.02.\n",
      "[I 2024-03-25 00:52:42,598] Trial 198 finished with value: -0.02 and parameters: {'random_state': 39, 'max_iter': 486}. Best is trial 0 with value: -0.02.\n",
      "[I 2024-03-25 00:52:42,661] Trial 199 finished with value: -0.02 and parameters: {'random_state': 34, 'max_iter': 779}. Best is trial 0 with value: -0.02.\n",
      "[I 2024-03-25 00:52:42,735] Trial 200 finished with value: -0.02 and parameters: {'random_state': 4, 'max_iter': 913}. Best is trial 0 with value: -0.02.\n",
      "[I 2024-03-25 00:52:42,809] Trial 201 finished with value: -0.02 and parameters: {'random_state': 23, 'max_iter': 844}. Best is trial 0 with value: -0.02.\n",
      "[I 2024-03-25 00:52:42,883] Trial 202 finished with value: -0.02 and parameters: {'random_state': 14, 'max_iter': 906}. Best is trial 0 with value: -0.02.\n",
      "[I 2024-03-25 00:52:42,957] Trial 203 finished with value: -0.02 and parameters: {'random_state': 17, 'max_iter': 109}. Best is trial 0 with value: -0.02.\n",
      "[I 2024-03-25 00:52:43,021] Trial 204 finished with value: -0.02 and parameters: {'random_state': 41, 'max_iter': 182}. Best is trial 0 with value: -0.02.\n",
      "[I 2024-03-25 00:52:43,085] Trial 205 finished with value: -0.02 and parameters: {'random_state': 14, 'max_iter': 956}. Best is trial 0 with value: -0.02.\n",
      "[I 2024-03-25 00:52:43,158] Trial 206 finished with value: -0.02 and parameters: {'random_state': 43, 'max_iter': 616}. Best is trial 0 with value: -0.02.\n",
      "[I 2024-03-25 00:52:43,231] Trial 207 finished with value: -0.02 and parameters: {'random_state': 29, 'max_iter': 504}. Best is trial 0 with value: -0.02.\n",
      "[I 2024-03-25 00:52:43,293] Trial 208 finished with value: -0.02 and parameters: {'random_state': 13, 'max_iter': 396}. Best is trial 0 with value: -0.02.\n",
      "[I 2024-03-25 00:52:43,357] Trial 209 finished with value: -0.02 and parameters: {'random_state': 30, 'max_iter': 777}. Best is trial 0 with value: -0.02.\n",
      "[I 2024-03-25 00:52:43,430] Trial 210 finished with value: -0.02 and parameters: {'random_state': 36, 'max_iter': 811}. Best is trial 0 with value: -0.02.\n",
      "[I 2024-03-25 00:52:43,503] Trial 211 finished with value: -0.02 and parameters: {'random_state': 4, 'max_iter': 545}. Best is trial 0 with value: -0.02.\n",
      "[I 2024-03-25 00:52:43,579] Trial 212 finished with value: -0.02 and parameters: {'random_state': 2, 'max_iter': 595}. Best is trial 0 with value: -0.02.\n",
      "[I 2024-03-25 00:52:43,653] Trial 213 finished with value: -0.02 and parameters: {'random_state': 20, 'max_iter': 899}. Best is trial 0 with value: -0.02.\n",
      "[I 2024-03-25 00:52:43,726] Trial 214 finished with value: -0.02 and parameters: {'random_state': 16, 'max_iter': 205}. Best is trial 0 with value: -0.02.\n",
      "[I 2024-03-25 00:52:43,800] Trial 215 finished with value: -0.02 and parameters: {'random_state': 6, 'max_iter': 786}. Best is trial 0 with value: -0.02.\n",
      "[I 2024-03-25 00:52:43,873] Trial 216 finished with value: -0.02 and parameters: {'random_state': 28, 'max_iter': 191}. Best is trial 0 with value: -0.02.\n",
      "[I 2024-03-25 00:52:43,936] Trial 217 finished with value: -0.02 and parameters: {'random_state': 3, 'max_iter': 731}. Best is trial 0 with value: -0.02.\n",
      "[I 2024-03-25 00:52:44,010] Trial 218 finished with value: -0.02 and parameters: {'random_state': 3, 'max_iter': 840}. Best is trial 0 with value: -0.02.\n",
      "[I 2024-03-25 00:52:44,074] Trial 219 finished with value: -0.02 and parameters: {'random_state': 32, 'max_iter': 173}. Best is trial 0 with value: -0.02.\n",
      "[I 2024-03-25 00:52:44,138] Trial 220 finished with value: -0.02 and parameters: {'random_state': 3, 'max_iter': 988}. Best is trial 0 with value: -0.02.\n",
      "[I 2024-03-25 00:52:44,200] Trial 221 finished with value: -0.02 and parameters: {'random_state': 17, 'max_iter': 433}. Best is trial 0 with value: -0.02.\n",
      "[I 2024-03-25 00:52:44,263] Trial 222 finished with value: -0.02 and parameters: {'random_state': 37, 'max_iter': 953}. Best is trial 0 with value: -0.02.\n",
      "[I 2024-03-25 00:52:44,327] Trial 223 finished with value: -0.02 and parameters: {'random_state': 45, 'max_iter': 778}. Best is trial 0 with value: -0.02.\n",
      "[I 2024-03-25 00:52:44,391] Trial 224 finished with value: -0.02 and parameters: {'random_state': 17, 'max_iter': 175}. Best is trial 0 with value: -0.02.\n",
      "[I 2024-03-25 00:52:44,464] Trial 225 finished with value: -0.02 and parameters: {'random_state': 35, 'max_iter': 603}. Best is trial 0 with value: -0.02.\n",
      "[I 2024-03-25 00:52:44,528] Trial 226 finished with value: -0.02 and parameters: {'random_state': 19, 'max_iter': 916}. Best is trial 0 with value: -0.02.\n",
      "[I 2024-03-25 00:52:44,601] Trial 227 finished with value: -0.02 and parameters: {'random_state': 5, 'max_iter': 543}. Best is trial 0 with value: -0.02.\n",
      "[I 2024-03-25 00:52:44,666] Trial 228 finished with value: -0.02 and parameters: {'random_state': 0, 'max_iter': 522}. Best is trial 0 with value: -0.02.\n",
      "[I 2024-03-25 00:52:44,740] Trial 229 finished with value: -0.02 and parameters: {'random_state': 2, 'max_iter': 207}. Best is trial 0 with value: -0.02.\n",
      "[I 2024-03-25 00:52:44,804] Trial 230 finished with value: -0.02 and parameters: {'random_state': 5, 'max_iter': 684}. Best is trial 0 with value: -0.02.\n",
      "[I 2024-03-25 00:52:44,879] Trial 231 finished with value: -0.02 and parameters: {'random_state': 34, 'max_iter': 625}. Best is trial 0 with value: -0.02.\n",
      "[I 2024-03-25 00:52:44,954] Trial 232 finished with value: -0.02 and parameters: {'random_state': 44, 'max_iter': 437}. Best is trial 0 with value: -0.02.\n",
      "[I 2024-03-25 00:52:45,028] Trial 233 finished with value: -0.02 and parameters: {'random_state': 13, 'max_iter': 882}. Best is trial 0 with value: -0.02.\n",
      "[I 2024-03-25 00:52:45,101] Trial 234 finished with value: -0.02 and parameters: {'random_state': 10, 'max_iter': 967}. Best is trial 0 with value: -0.02.\n",
      "[I 2024-03-25 00:52:45,165] Trial 235 finished with value: -0.02 and parameters: {'random_state': 0, 'max_iter': 973}. Best is trial 0 with value: -0.02.\n",
      "[I 2024-03-25 00:52:45,237] Trial 236 finished with value: -0.02 and parameters: {'random_state': 1, 'max_iter': 902}. Best is trial 0 with value: -0.02.\n",
      "[I 2024-03-25 00:52:45,300] Trial 237 finished with value: -0.02 and parameters: {'random_state': 24, 'max_iter': 994}. Best is trial 0 with value: -0.02.\n",
      "[I 2024-03-25 00:52:45,374] Trial 238 finished with value: -0.02 and parameters: {'random_state': 3, 'max_iter': 599}. Best is trial 0 with value: -0.02.\n",
      "[I 2024-03-25 00:52:45,437] Trial 239 finished with value: -0.02 and parameters: {'random_state': 44, 'max_iter': 571}. Best is trial 0 with value: -0.02.\n",
      "[I 2024-03-25 00:52:45,511] Trial 240 finished with value: -0.02 and parameters: {'random_state': 28, 'max_iter': 726}. Best is trial 0 with value: -0.02.\n",
      "[I 2024-03-25 00:52:45,585] Trial 241 finished with value: -0.02 and parameters: {'random_state': 20, 'max_iter': 665}. Best is trial 0 with value: -0.02.\n",
      "[I 2024-03-25 00:52:45,659] Trial 242 finished with value: -0.02 and parameters: {'random_state': 26, 'max_iter': 911}. Best is trial 0 with value: -0.02.\n",
      "[I 2024-03-25 00:52:45,732] Trial 243 finished with value: -0.02 and parameters: {'random_state': 2, 'max_iter': 353}. Best is trial 0 with value: -0.02.\n",
      "[I 2024-03-25 00:52:45,808] Trial 244 finished with value: -0.02 and parameters: {'random_state': 43, 'max_iter': 902}. Best is trial 0 with value: -0.02.\n",
      "[I 2024-03-25 00:52:45,883] Trial 245 finished with value: -0.02 and parameters: {'random_state': 20, 'max_iter': 658}. Best is trial 0 with value: -0.02.\n",
      "[I 2024-03-25 00:52:45,956] Trial 246 finished with value: -0.02 and parameters: {'random_state': 12, 'max_iter': 269}. Best is trial 0 with value: -0.02.\n",
      "[I 2024-03-25 00:52:46,033] Trial 247 finished with value: -0.02 and parameters: {'random_state': 21, 'max_iter': 418}. Best is trial 0 with value: -0.02.\n",
      "[I 2024-03-25 00:52:46,107] Trial 248 finished with value: -0.02 and parameters: {'random_state': 26, 'max_iter': 170}. Best is trial 0 with value: -0.02.\n",
      "[I 2024-03-25 00:52:46,181] Trial 249 finished with value: -0.02 and parameters: {'random_state': 44, 'max_iter': 988}. Best is trial 0 with value: -0.02.\n"
     ]
    }
   ],
   "source": [
    "study.optimize(objective, n_trials=250)"
   ]
  },
  {
   "cell_type": "code",
   "execution_count": 29,
   "metadata": {},
   "outputs": [],
   "source": [
    "best_model = LogisticRegression(random_state=44, max_iter=988)"
   ]
  },
  {
   "cell_type": "code",
   "execution_count": 30,
   "metadata": {},
   "outputs": [
    {
     "data": {
      "text/html": [
       "<style>#sk-container-id-2 {color: black;}#sk-container-id-2 pre{padding: 0;}#sk-container-id-2 div.sk-toggleable {background-color: white;}#sk-container-id-2 label.sk-toggleable__label {cursor: pointer;display: block;width: 100%;margin-bottom: 0;padding: 0.3em;box-sizing: border-box;text-align: center;}#sk-container-id-2 label.sk-toggleable__label-arrow:before {content: \"▸\";float: left;margin-right: 0.25em;color: #696969;}#sk-container-id-2 label.sk-toggleable__label-arrow:hover:before {color: black;}#sk-container-id-2 div.sk-estimator:hover label.sk-toggleable__label-arrow:before {color: black;}#sk-container-id-2 div.sk-toggleable__content {max-height: 0;max-width: 0;overflow: hidden;text-align: left;background-color: #f0f8ff;}#sk-container-id-2 div.sk-toggleable__content pre {margin: 0.2em;color: black;border-radius: 0.25em;background-color: #f0f8ff;}#sk-container-id-2 input.sk-toggleable__control:checked~div.sk-toggleable__content {max-height: 200px;max-width: 100%;overflow: auto;}#sk-container-id-2 input.sk-toggleable__control:checked~label.sk-toggleable__label-arrow:before {content: \"▾\";}#sk-container-id-2 div.sk-estimator input.sk-toggleable__control:checked~label.sk-toggleable__label {background-color: #d4ebff;}#sk-container-id-2 div.sk-label input.sk-toggleable__control:checked~label.sk-toggleable__label {background-color: #d4ebff;}#sk-container-id-2 input.sk-hidden--visually {border: 0;clip: rect(1px 1px 1px 1px);clip: rect(1px, 1px, 1px, 1px);height: 1px;margin: -1px;overflow: hidden;padding: 0;position: absolute;width: 1px;}#sk-container-id-2 div.sk-estimator {font-family: monospace;background-color: #f0f8ff;border: 1px dotted black;border-radius: 0.25em;box-sizing: border-box;margin-bottom: 0.5em;}#sk-container-id-2 div.sk-estimator:hover {background-color: #d4ebff;}#sk-container-id-2 div.sk-parallel-item::after {content: \"\";width: 100%;border-bottom: 1px solid gray;flex-grow: 1;}#sk-container-id-2 div.sk-label:hover label.sk-toggleable__label {background-color: #d4ebff;}#sk-container-id-2 div.sk-serial::before {content: \"\";position: absolute;border-left: 1px solid gray;box-sizing: border-box;top: 0;bottom: 0;left: 50%;z-index: 0;}#sk-container-id-2 div.sk-serial {display: flex;flex-direction: column;align-items: center;background-color: white;padding-right: 0.2em;padding-left: 0.2em;position: relative;}#sk-container-id-2 div.sk-item {position: relative;z-index: 1;}#sk-container-id-2 div.sk-parallel {display: flex;align-items: stretch;justify-content: center;background-color: white;position: relative;}#sk-container-id-2 div.sk-item::before, #sk-container-id-2 div.sk-parallel-item::before {content: \"\";position: absolute;border-left: 1px solid gray;box-sizing: border-box;top: 0;bottom: 0;left: 50%;z-index: -1;}#sk-container-id-2 div.sk-parallel-item {display: flex;flex-direction: column;z-index: 1;position: relative;background-color: white;}#sk-container-id-2 div.sk-parallel-item:first-child::after {align-self: flex-end;width: 50%;}#sk-container-id-2 div.sk-parallel-item:last-child::after {align-self: flex-start;width: 50%;}#sk-container-id-2 div.sk-parallel-item:only-child::after {width: 0;}#sk-container-id-2 div.sk-dashed-wrapped {border: 1px dashed gray;margin: 0 0.4em 0.5em 0.4em;box-sizing: border-box;padding-bottom: 0.4em;background-color: white;}#sk-container-id-2 div.sk-label label {font-family: monospace;font-weight: bold;display: inline-block;line-height: 1.2em;}#sk-container-id-2 div.sk-label-container {text-align: center;}#sk-container-id-2 div.sk-container {/* jupyter's `normalize.less` sets `[hidden] { display: none; }` but bootstrap.min.css set `[hidden] { display: none !important; }` so we also need the `!important` here to be able to override the default hidden behavior on the sphinx rendered scikit-learn.org. See: https://github.com/scikit-learn/scikit-learn/issues/21755 */display: inline-block !important;position: relative;}#sk-container-id-2 div.sk-text-repr-fallback {display: none;}</style><div id=\"sk-container-id-2\" class=\"sk-top-container\"><div class=\"sk-text-repr-fallback\"><pre>LogisticRegression(max_iter=988, random_state=44)</pre><b>In a Jupyter environment, please rerun this cell to show the HTML representation or trust the notebook. <br />On GitHub, the HTML representation is unable to render, please try loading this page with nbviewer.org.</b></div><div class=\"sk-container\" hidden><div class=\"sk-item\"><div class=\"sk-estimator sk-toggleable\"><input class=\"sk-toggleable__control sk-hidden--visually\" id=\"sk-estimator-id-2\" type=\"checkbox\" checked><label for=\"sk-estimator-id-2\" class=\"sk-toggleable__label sk-toggleable__label-arrow\">LogisticRegression</label><div class=\"sk-toggleable__content\"><pre>LogisticRegression(max_iter=988, random_state=44)</pre></div></div></div></div></div>"
      ],
      "text/plain": [
       "LogisticRegression(max_iter=988, random_state=44)"
      ]
     },
     "execution_count": 30,
     "metadata": {},
     "output_type": "execute_result"
    }
   ],
   "source": [
    "best_model.fit(X_train, y_train)"
   ]
  },
  {
   "cell_type": "code",
   "execution_count": 31,
   "metadata": {},
   "outputs": [
    {
     "data": {
      "text/plain": [
       "1.0"
      ]
     },
     "execution_count": 31,
     "metadata": {},
     "output_type": "execute_result"
    }
   ],
   "source": [
    "best_model.score(X_train, y_train)"
   ]
  },
  {
   "cell_type": "code",
   "execution_count": 32,
   "metadata": {},
   "outputs": [],
   "source": [
    "y_pred = best_model.predict(X_test)"
   ]
  },
  {
   "cell_type": "code",
   "execution_count": 33,
   "metadata": {},
   "outputs": [
    {
     "data": {
      "text/plain": [
       "0.9545454545454546"
      ]
     },
     "execution_count": 33,
     "metadata": {},
     "output_type": "execute_result"
    }
   ],
   "source": [
    "accuracy = accuracy_score(y_test, y_pred)\n",
    "accuracy"
   ]
  },
  {
   "cell_type": "code",
   "execution_count": 34,
   "metadata": {},
   "outputs": [
    {
     "name": "stdout",
     "output_type": "stream",
     "text": [
      "              precision    recall  f1-score   support\n",
      "\n",
      "           0       1.00      1.00      1.00        17\n",
      "           1       1.00      0.83      0.91        12\n",
      "           2       0.88      1.00      0.94        15\n",
      "\n",
      "    accuracy                           0.95        44\n",
      "   macro avg       0.96      0.94      0.95        44\n",
      "weighted avg       0.96      0.95      0.95        44\n",
      "\n"
     ]
    }
   ],
   "source": [
    "report = classification_report(y_test, y_pred)\n",
    "print(report)"
   ]
  },
  {
   "cell_type": "code",
   "execution_count": null,
   "metadata": {},
   "outputs": [],
   "source": []
  }
 ],
 "metadata": {
  "kernelspec": {
   "display_name": "Python 3",
   "language": "python",
   "name": "python3"
  },
  "language_info": {
   "codemirror_mode": {
    "name": "ipython",
    "version": 3
   },
   "file_extension": ".py",
   "mimetype": "text/x-python",
   "name": "python",
   "nbconvert_exporter": "python",
   "pygments_lexer": "ipython3",
   "version": "3.12.2"
  }
 },
 "nbformat": 4,
 "nbformat_minor": 2
}
